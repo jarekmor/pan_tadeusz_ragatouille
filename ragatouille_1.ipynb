{
 "cells": [
  {
   "cell_type": "code",
   "execution_count": 1,
   "metadata": {},
   "outputs": [],
   "source": [
    "# !pip install -U ragatouille\n",
    "# !pip install -U langchain\n",
    "# !pip install ipywidgets\n",
    "# !pip install -U langchain-openai"
   ]
  },
  {
   "cell_type": "code",
   "execution_count": 2,
   "metadata": {},
   "outputs": [],
   "source": [
    "from ragatouille import RAGPretrainedModel\n",
    "\n",
    "RAG = RAGPretrainedModel.from_pretrained(\"colbert-ir/colbertv2.0\")"
   ]
  },
  {
   "cell_type": "code",
   "execution_count": 3,
   "metadata": {},
   "outputs": [
    {
     "data": {
      "text/plain": [
       "'Nieznacznie z wilgotnego wykradał się mroku\\nŚwit bez rumieńca, wiodąc dzień bez światła w oku.\\nDawno wszedł dzień, a jeszcze ledwie jest widomy.\\nMgła wisiała nad ziemią, jak strzecha ze słomy\\n       5 Nad ubogą Litwina chatką; w stronie Wschodu\\nWidać z bielszego nieco na niebie obwodu,\\nŻe słońce wstało, tędy ma zstąpić na ziemię,\\nLecz idzie niewesoło i po drodze drzemie.\\n\\n\\u2009Za przykładem niebieskim wszystko się spóźniło\\n       10 Na ziemi. Bydło późno na paszę ruszyło\\nI zdybało zające przy późnem śniadaniu.\\nOne zwykły do gajów wracać o świtaniu,\\nDziś okryte tumanem, te mokrzycę chrupią,[2]\\nTe jamki w roli kopiąc, parami się kupią,\\n       15 I na wolnem powietrzu myślą użyć wczasu;\\nAle przed bydłem muszą powracać do lasu.\\n\\n\\u2009I w lasach cisza. Ptaszek zbudzony nie śpiewa,\\nOtrząsnął pierze z rosy, tuli się do drzewa,\\nGłowę wciska w ramiona, oczy znowu mruży\\n       20 I czeka słońca. Kędyś, u brzegów kałuży,\\nKlekce bocian; na kopach siedzą wrony zmokłe,\\nRozdziawiwszy się, ciągną gawędy rozwl'"
      ]
     },
     "execution_count": 3,
     "metadata": {},
     "output_type": "execute_result"
    }
   ],
   "source": [
    "def open_file(file_path):\n",
    "    with open(file_path, \"r\") as file:\n",
    "        return file.read()\n",
    "    \n",
    "full_document = open_file(\"./pan_tadeusz_6.txt\")\n",
    "full_document[:1000]"
   ]
  },
  {
   "cell_type": "code",
   "execution_count": 4,
   "metadata": {},
   "outputs": [
    {
     "name": "stdout",
     "output_type": "stream",
     "text": [
      "---- WARNING! You are using PLAID with an experimental replacement for FAISS for greater compatibility ----\n",
      "This is a behaviour change from RAGatouille 0.8.0 onwards.\n",
      "This works fine for most users and smallish datasets, but can be considerably slower than FAISS and could cause worse results in some situations.\n",
      "If you're confident with FAISS working on your machine, pass use_faiss=True to revert to the FAISS-using behaviour.\n",
      "--------------------\n",
      "\n",
      "\n",
      "[Apr 21, 20:51:37] #> Creating directory .ragatouille/colbert/indexes/Pan Tadeusz \n",
      "\n",
      "\n",
      "#> Starting...\n",
      "#> Starting...\n",
      "nranks = 2 \t num_gpus = 2 \t device=0\n",
      "nranks = 2 \t num_gpus = 2 \t device=1\n",
      "[Apr 21, 20:51:40] [1] \t\t #> Encoding 47 passages..\n",
      "[Apr 21, 20:51:40] [0] \t\t #> Encoding 48 passages..\n",
      "[Apr 21, 20:51:41] [0] \t\t avg_doclen_est = 140.80319213867188 \t len(local_sample) = 48\n",
      "[Apr 21, 20:51:41] [1] \t\t avg_doclen_est = 140.80319213867188 \t len(local_sample) = 47\n",
      "[Apr 21, 20:51:41] [0] \t\t Creating 1,024 partitions.\n",
      "[Apr 21, 20:51:41] [0] \t\t *Estimated* 13,376 embeddings.\n",
      "[Apr 21, 20:51:41] [0] \t\t #> Saving the indexing plan to .ragatouille/colbert/indexes/Pan Tadeusz/plan.json ..\n",
      "Clustering 12708 points in 128D to 1024 clusters, redo 1 times, 20 iterations\n",
      "  Preprocessing in 0.00 s\n",
      "  Iteration 1 (0.16 s, search 0.16 s): objective=2176.43 imbalance=1.574 nsplit=1       \r"
     ]
    },
    {
     "name": "stderr",
     "output_type": "stream",
     "text": [
      "WARNING clustering 12708 points to 1024 centroids: please provide at least 39936 training points\n"
     ]
    },
    {
     "name": "stdout",
     "output_type": "stream",
     "text": [
      "  Iteration 19 (1.53 s, search 1.53 s): objective=1777.76 imbalance=1.531 nsplit=0       \n",
      "[Apr 21, 20:51:43] Loading decompress_residuals_cpp extension (set COLBERT_LOAD_TORCH_EXTENSION_VERBOSE=True for more info)...\n",
      "[Apr 21, 20:51:43] Loading packbits_cpp extension (set COLBERT_LOAD_TORCH_EXTENSION_VERBOSE=True for more info)...\n",
      "[0.03, 0.027, 0.027, 0.027, 0.028, 0.028, 0.026, 0.027, 0.028, 0.03, 0.027, 0.03, 0.028, 0.029, 0.03, 0.028, 0.025, 0.028, 0.026, 0.031, 0.027, 0.028, 0.028, 0.029, 0.023, 0.027, 0.028, 0.027, 0.026, 0.027, 0.028, 0.03, 0.026, 0.03, 0.025, 0.026, 0.027, 0.029, 0.026, 0.03, 0.028, 0.029, 0.027, 0.026, 0.025, 0.026, 0.029, 0.028, 0.026, 0.026, 0.028, 0.031, 0.025, 0.028, 0.026, 0.029, 0.028, 0.029, 0.03, 0.028, 0.029, 0.03, 0.027, 0.028, 0.029, 0.027, 0.029, 0.029, 0.027, 0.026, 0.027, 0.029, 0.029, 0.03, 0.027, 0.025, 0.028, 0.028, 0.027, 0.027, 0.028, 0.032, 0.026, 0.026, 0.03, 0.027, 0.027, 0.029, 0.025, 0.034, 0.025, 0.03, 0.028, 0.025, 0.029, 0.028, 0.027, 0.024, 0.032, 0.03, 0.029, 0.027, 0.026, 0.027, 0.034, 0.025, 0.031, 0.024, 0.028, 0.024, 0.025, 0.03, 0.031, 0.024, 0.029, 0.025, 0.028, 0.026, 0.031, 0.027, 0.026, 0.027, 0.029, 0.03, 0.028, 0.026, 0.025, 0.024]\n",
      "[Apr 21, 20:51:43] Loading decompress_residuals_cpp extension (set COLBERT_LOAD_TORCH_EXTENSION_VERBOSE=True for more info)...\n",
      "[Apr 21, 20:51:43] [0] \t\t #> Encoding 48 passages..\n",
      "[Apr 21, 20:51:43] Loading packbits_cpp extension (set COLBERT_LOAD_TORCH_EXTENSION_VERBOSE=True for more info)...\n"
     ]
    },
    {
     "name": "stderr",
     "output_type": "stream",
     "text": [
      "1it [00:00, 23.78it/s]\n",
      "100%|██████████| 2/2 [00:00<00:00, 5213.55it/s]\n",
      "100%|██████████| 1024/1024 [00:00<00:00, 163219.86it/s]\n"
     ]
    },
    {
     "name": "stdout",
     "output_type": "stream",
     "text": [
      "[Apr 21, 20:51:43] [1] \t\t #> Encoding 47 passages..\n",
      "[Apr 21, 20:51:43] #> Optimizing IVF to store map from centroids to list of pids..\n",
      "[Apr 21, 20:51:43] #> Building the emb2pid mapping..\n",
      "[Apr 21, 20:51:43] len(emb2pid) = 13376\n",
      "[Apr 21, 20:51:43] #> Saved optimized IVF to .ragatouille/colbert/indexes/Pan Tadeusz/ivf.pid.pt\n",
      "#> Joined...\n",
      "#> Joined...\n",
      "Done indexing!\n"
     ]
    },
    {
     "data": {
      "text/plain": [
       "'.ragatouille/colbert/indexes/Pan Tadeusz'"
      ]
     },
     "execution_count": 4,
     "metadata": {},
     "output_type": "execute_result"
    }
   ],
   "source": [
    "RAG.index(\n",
    "    collection=[full_document],\n",
    "    index_name=\"Pan Tadeusz\",\n",
    "    max_document_length=180,\n",
    "    split_documents=True,\n",
    ")"
   ]
  },
  {
   "cell_type": "code",
   "execution_count": 5,
   "metadata": {},
   "outputs": [
    {
     "name": "stdout",
     "output_type": "stream",
     "text": [
      "Loading searcher for index Pan Tadeusz for the first time... This may take a few seconds\n",
      "[Apr 21, 20:51:53] #> Loading codec...\n",
      "[Apr 21, 20:51:53] Loading decompress_residuals_cpp extension (set COLBERT_LOAD_TORCH_EXTENSION_VERBOSE=True for more info)...\n",
      "[Apr 21, 20:51:53] Loading packbits_cpp extension (set COLBERT_LOAD_TORCH_EXTENSION_VERBOSE=True for more info)...\n",
      "[Apr 21, 20:51:53] #> Loading IVF...\n",
      "[Apr 21, 20:51:53] #> Loading doclens...\n"
     ]
    },
    {
     "name": "stderr",
     "output_type": "stream",
     "text": [
      "100%|██████████| 2/2 [00:00<00:00, 17476.27it/s]"
     ]
    },
    {
     "name": "stdout",
     "output_type": "stream",
     "text": [
      "[Apr 21, 20:51:53] #> Loading codes and residuals...\n"
     ]
    },
    {
     "name": "stderr",
     "output_type": "stream",
     "text": [
      "\n",
      "100%|██████████| 2/2 [00:00<00:00, 1204.05it/s]"
     ]
    },
    {
     "name": "stdout",
     "output_type": "stream",
     "text": [
      "Searcher loaded!\n",
      "\n",
      "#> QueryTokenizer.tensorize(batch_text[0], batch_background[0], bsize) ==\n",
      "#> Input: . Do kogo posłowie udali się po radę?, \t\t True, \t\t None\n",
      "#> Output IDs: torch.Size([32]), tensor([  101,     1,  2079, 12849,  3995, 13433,  2015, 18818,  5004,  2666,\n",
      "        20904, 11475,  9033,  2063, 13433, 10958,  3207,  1029,   102,   103,\n",
      "          103,   103,   103,   103,   103,   103,   103,   103,   103,   103,\n",
      "          103,   103], device='cuda:0')\n",
      "#> Output Mask: torch.Size([32]), tensor([1, 1, 1, 1, 1, 1, 1, 1, 1, 1, 1, 1, 1, 1, 1, 1, 1, 1, 1, 0, 0, 0, 0, 0,\n",
      "        0, 0, 0, 0, 0, 0, 0, 0], device='cuda:0')\n",
      "\n"
     ]
    },
    {
     "name": "stderr",
     "output_type": "stream",
     "text": [
      "\n"
     ]
    },
    {
     "data": {
      "text/plain": [
       "[{'content': 'Gdy się staruszek bawił widokiem biesiady,\\nNagle króliki znikły w ziemi, a gromady\\nWróblów na dach uciekły przed gośćmi nowymi,\\n       600 Którzy szli do folwarku krokami prędkiémi.\\nByli to z plebanii przez szlachty gromadę\\nPosłowie wyprawieni do Maćka po radę.\\nZdala witając starca niskiemi ukłony,\\nRzekli: „Niech będzie Jezus Chrystus pochwalony“.',\n",
       "  'score': 18.203125,\n",
       "  'rank': 1,\n",
       "  'document_id': '9d4cf623-7de1-4972-a8fb-e59ce73cda5c',\n",
       "  'passage_id': 91},\n",
       " {'content': 'Wpływu takiego starzec bynajmniej nie szukał;\\nOwszem, ciał się go pozbyć, klijentów[66] swych fukał,\\nI najczęściej wypychał milczkiem za drzwi domu.\\n       560 Rady rzadko udzielał i nie lada komu;\\nLedwie w niezmiernie ważnych sporach lub umowach\\nPytany, wyrzekł zdanie i w niewielu słowach.',\n",
       "  'score': 17.546875,\n",
       "  'rank': 2,\n",
       "  'document_id': '9d4cf623-7de1-4972-a8fb-e59ce73cda5c',\n",
       "  'passage_id': 85},\n",
       " {'content': 'Dosyć zrobiłem głupstwa z porady Waszeci,        140\\nZwołując podkomorskie sądy po raz trzeci.\\nOd dzisiaj niema zgody; niema, niema, niema!\\n(I krzycząc chodził, tupał nogami obiema).\\nPrócz tego za wczorajszy niegrzeczny uczynek\\nMusi mnie deprekować[13], albo pojedynek!“        145\\n„Ale, Sędzio, cóż będzie, jak się Jacek dowie?\\nWszak on umrze z rozpaczy! Czyliż Soplicowie\\nNie narobili jeszcze w tym zamku dość złego?\\nBracie!',\n",
       "  'score': 17.1875,\n",
       "  'rank': 3,\n",
       "  'document_id': '9d4cf623-7de1-4972-a8fb-e59ce73cda5c',\n",
       "  'passage_id': 21}]"
      ]
     },
     "execution_count": 5,
     "metadata": {},
     "output_type": "execute_result"
    }
   ],
   "source": [
    "results = RAG.search(query=\"Do kogo posłowie udali się po radę?\", k=3)\n",
    "results"
   ]
  },
  {
   "cell_type": "code",
   "execution_count": 6,
   "metadata": {},
   "outputs": [
    {
     "data": {
      "text/plain": [
       "[Document(page_content='Gdy się staruszek bawił widokiem biesiady,\\nNagle króliki znikły w ziemi, a gromady\\nWróblów na dach uciekły przed gośćmi nowymi,\\n       600 Którzy szli do folwarku krokami prędkiémi.\\nByli to z plebanii przez szlachty gromadę\\nPosłowie wyprawieni do Maćka po radę.\\nZdala witając starca niskiemi ukłony,\\nRzekli: „Niech będzie Jezus Chrystus pochwalony“.'),\n",
       " Document(page_content='Wpływu takiego starzec bynajmniej nie szukał;\\nOwszem, ciał się go pozbyć, klijentów[66] swych fukał,\\nI najczęściej wypychał milczkiem za drzwi domu.\\n       560 Rady rzadko udzielał i nie lada komu;\\nLedwie w niezmiernie ważnych sporach lub umowach\\nPytany, wyrzekł zdanie i w niewielu słowach.'),\n",
       " Document(page_content='Dosyć zrobiłem głupstwa z porady Waszeci,        140\\nZwołując podkomorskie sądy po raz trzeci.\\nOd dzisiaj niema zgody; niema, niema, niema!\\n(I krzycząc chodził, tupał nogami obiema).\\nPrócz tego za wczorajszy niegrzeczny uczynek\\nMusi mnie deprekować[13], albo pojedynek!“        145\\n„Ale, Sędzio, cóż będzie, jak się Jacek dowie?\\nWszak on umrze z rozpaczy! Czyliż Soplicowie\\nNie narobili jeszcze w tym zamku dość złego?\\nBracie!')]"
      ]
     },
     "execution_count": 6,
     "metadata": {},
     "output_type": "execute_result"
    }
   ],
   "source": [
    "retriever = RAG.as_langchain_retriever(k=3)\n",
    "\n",
    "retriever.invoke(\"Do kogo posłowie udali się po radę?\")"
   ]
  },
  {
   "cell_type": "code",
   "execution_count": 7,
   "metadata": {},
   "outputs": [],
   "source": [
    "from langchain.chains import create_retrieval_chain\n",
    "from langchain.chains.combine_documents import create_stuff_documents_chain\n",
    "from langchain_core.prompts import ChatPromptTemplate\n",
    "from langchain_openai import ChatOpenAI\n",
    "\n",
    "prompt = ChatPromptTemplate.from_template(\n",
    "    \"\"\"Answer the following question based only on the provided context:\n",
    "\n",
    "<context>\n",
    "{context}\n",
    "</context>\n",
    "\n",
    "Question: {input}\"\"\"\n",
    ")\n",
    "\n",
    "llm = ChatOpenAI(openai_api_base=\"http://10.100.10.72:8000/v1\",\n",
    "                openai_api_key=\"sk-11111111111\",\n",
    "                model_name=\"speakleash/Bielik-7B-Instruct-v0.1\",\n",
    "                temperature=0.1,\n",
    "                max_tokens=300\n",
    "                )\n",
    "\n",
    "document_chain = create_stuff_documents_chain(llm, prompt)\n",
    "retrieval_chain = create_retrieval_chain(retriever, document_chain)"
   ]
  },
  {
   "cell_type": "code",
   "execution_count": 15,
   "metadata": {},
   "outputs": [
    {
     "data": {
      "text/plain": [
       "{'input': 'Do kogo posłowie udali się po radę? Jak miał na imię ten, który ich przyjął?',\n",
       " 'context': [Document(page_content='By nie spotkać Moskala, po kraju zaborze\\n       520 Siedział w domu jak niedźwiedź, gdy ssie łapę w borze.\\n\\n\\u2009Ostatni raz wojował, poszedłszy z Ogińskim\\nDo Wilna, gdzie służyli oba pod Jasińskim,\\nI tam z Rózeczką cudów dokazał odwagi.\\nWiadomo, że sam jeden skoczył z wałów Pragi\\n       525 Bronić pana Pocieja[63], który odbieżany\\nNa placu boju, dostał dwadzieścia trzy rany.'),\n",
       "  Document(page_content='Gdy się staruszek bawił widokiem biesiady,\\nNagle króliki znikły w ziemi, a gromady\\nWróblów na dach uciekły przed gośćmi nowymi,\\n       600 Którzy szli do folwarku krokami prędkiémi.\\nByli to z plebanii przez szlachty gromadę\\nPosłowie wyprawieni do Maćka po radę.\\nZdala witając starca niskiemi ukłony,\\nRzekli: „Niech będzie Jezus Chrystus pochwalony“.'),\n",
       "  Document(page_content='Za przykładem niebieskim wszystko się spóźniło\\n       10 Na ziemi. Bydło późno na paszę ruszyło\\nI zdybało zające przy późnem śniadaniu.\\nOne zwykły do gajów wracać o świtaniu,\\nDziś okryte tumanem, te mokrzycę chrupią,[2]\\nTe jamki w roli kopiąc, parami się kupią,\\n       15 I na wolnem powietrzu myślą użyć wczasu;\\nAle przed bydłem muszą powracać do lasu.\\n\\n\\u2009I w lasach cisza.')],\n",
       " 'answer': '  Posłowie udali się do Maćka po radę. On miał na imię Maciej.'}"
      ]
     },
     "execution_count": 15,
     "metadata": {},
     "output_type": "execute_result"
    }
   ],
   "source": [
    "result = retrieval_chain.invoke({\"input\": \"Do kogo posłowie udali się po radę? Jak miał na imię ten, który ich przyjął?\"})\n",
    "result"
   ]
  },
  {
   "cell_type": "code",
   "execution_count": 17,
   "metadata": {},
   "outputs": [
    {
     "data": {
      "text/plain": [
       "'Posłowie udali się do Maćka po radę. On miał na imię Maciej.'"
      ]
     },
     "execution_count": 17,
     "metadata": {},
     "output_type": "execute_result"
    }
   ],
   "source": [
    "result['answer'].strip()"
   ]
  },
  {
   "cell_type": "code",
   "execution_count": 14,
   "metadata": {},
   "outputs": [
    {
     "name": "stdout",
     "output_type": "stream",
     "text": [
      "  W szóstej księdze Pana Tadeusza, Zosia, będąc dzieckiem w biednym stanie, zostaje oddana Telimenie na wychowanie przez Jacka, który uważa ją za osobę dobrą i światową. Tadeusz zostaje wciągnięty w intrygi Telimeny i jest potencjalnym celem jej planów matrymonialnych zarówno z Hrabią, jak i Soplicą. W księdze tej opisane są również przygotowania do polowania, zaznaczając, że wojna nie została jeszcze oficjalnie ogłoszona, ale książę Józef słyszał od francuskiego doradcy, że dojdzie do niej."
     ]
    }
   ],
   "source": [
    "for s in retrieval_chain.stream({\"input\": \"Podsumuj szóstą księgę Pana Tadeusza\"}):  # Polish\n",
    "    print(s.get(\"answer\", \"\"), end=\"\")"
   ]
  }
 ],
 "metadata": {
  "kernelspec": {
   "display_name": ".ragatouille_venv",
   "language": "python",
   "name": "python3"
  },
  "language_info": {
   "codemirror_mode": {
    "name": "ipython",
    "version": 3
   },
   "file_extension": ".py",
   "mimetype": "text/x-python",
   "name": "python",
   "nbconvert_exporter": "python",
   "pygments_lexer": "ipython3",
   "version": "3.10.12"
  }
 },
 "nbformat": 4,
 "nbformat_minor": 2
}
